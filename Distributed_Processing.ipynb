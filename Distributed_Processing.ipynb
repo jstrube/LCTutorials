{
 "cells": [
  {
   "cell_type": "code",
   "execution_count": null,
   "metadata": {},
   "outputs": [],
   "source": [
    "using Distributed\n",
    "using StatsPlots"
   ]
  },
  {
   "cell_type": "code",
   "execution_count": null,
   "metadata": {},
   "outputs": [],
   "source": [
    "addprocs(5)"
   ]
  },
  {
   "cell_type": "code",
   "execution_count": null,
   "metadata": {},
   "outputs": [],
   "source": [
    "@everywhere using LCIO"
   ]
  },
  {
   "cell_type": "code",
   "execution_count": null,
   "metadata": {},
   "outputs": [],
   "source": [
    "@everywhere function readEvents(fnames, ZMassList, done)\n",
    "\ttotal_nEvents_processed = 0\n",
    "\twhile true\n",
    "\t\ttry\n",
    "\t\t\tFILENAME = take!(fnames)\n",
    "            LCIO.open(FILENAME) do reader\n",
    "                for (iEvent, event) in enumerate(reader)\n",
    "                    mcpList = getCollection(event, \"MCParticle\")\n",
    "                    mu1 = mcpList[10]\n",
    "                    mu2 = mcpList[11]\n",
    "                    p = getMomentum(mu1) .+ getMomentum(mu2)\n",
    "                    E = getEnergy(mu1) + getEnergy(mu2)\n",
    "                    put!(ZMassList, sqrt(E^2 - sum(p.^2)))\n",
    "                    total_nEvents_processed += 1\n",
    "                end\n",
    "            end\n",
    "\t\tcatch e\n",
    "\t\t\tbreak\n",
    "\t\tend\n",
    "\tend\t\t\n",
    "\tput!(done, total_nEvents_processed)\n",
    "end"
   ]
  },
  {
   "cell_type": "code",
   "execution_count": null,
   "metadata": {},
   "outputs": [],
   "source": [
    "# let's start with reading a number of files concurrently\n",
    "fnames = RemoteChannel(()->Channel{String}(400))\n",
    "\n",
    "# let's create a buffer large enough for 100k events concurrently\n",
    "ZMassList = RemoteChannel(()->Channel{Float64}(200000))\n",
    "\n",
    "# the readers can signal when they are done reading events\n",
    "done = RemoteChannel(()->Channel{Int}(400))"
   ]
  },
  {
   "cell_type": "code",
   "execution_count": null,
   "metadata": {},
   "outputs": [],
   "source": [
    "# spawn the readers, one per worker\n",
    "processors = [@spawnat w readEvents(fnames, ZMassList, done) for w in workers()]"
   ]
  },
  {
   "cell_type": "code",
   "execution_count": null,
   "metadata": {},
   "outputs": [],
   "source": [
    "fileList = filter(s->occursin(r\"E250_SetA.Pmumuh2ss.Gwhizard-2_84.eL0.8\\.pR0.3\\..*.slcio\", s), readdir(\"/nfs/dust/ilc/user/jstrube/StrangeHiggs/data/GeneratorLevel\", join=true))"
   ]
  },
  {
   "cell_type": "code",
   "execution_count": null,
   "metadata": {},
   "outputs": [],
   "source": [
    "for f in fileList put!(fnames, f) end\n",
    "close(fnames)"
   ]
  },
  {
   "cell_type": "code",
   "execution_count": null,
   "metadata": {},
   "outputs": [],
   "source": [
    "# wait for all readers to be done\n",
    "# then we can close the event queue and the doers can finish\n",
    "nDone = 0\n",
    "nEvents = 0\n",
    "values = Float64[]\n",
    "while nDone != nworkers()\n",
    "\tnDone += 1\n",
    "    theseEvents = take!(done)\n",
    "\tnEvents += theseEvents\n",
    "    for i in 1:theseEvents\n",
    "        push!(values, take!(ZMassList))\n",
    "    end\n",
    "end\n",
    "close(ZMassList)\n",
    "println(\"Done\")"
   ]
  },
  {
   "cell_type": "code",
   "execution_count": null,
   "metadata": {},
   "outputs": [],
   "source": [
    "histogram(values)"
   ]
  },
  {
   "cell_type": "code",
   "execution_count": null,
   "metadata": {},
   "outputs": [],
   "source": []
  }
 ],
 "metadata": {
  "kernelspec": {
   "display_name": "Julia 1.5.0-rc2",
   "language": "julia",
   "name": "julia-1.5"
  },
  "language_info": {
   "file_extension": ".jl",
   "mimetype": "application/julia",
   "name": "julia",
   "version": "1.5.0"
  }
 },
 "nbformat": 4,
 "nbformat_minor": 4
}
